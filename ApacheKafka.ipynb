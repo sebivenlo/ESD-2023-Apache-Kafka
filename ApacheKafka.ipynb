{
 "cells": [
  {
   "cell_type": "markdown",
   "id": "77ca9a50-7c3b-42aa-8a3e-343d9b021e3f",
   "metadata": {},
   "source": [
    "# Apache Kafka\n",
    "Powering Real-Time Data at Scale\n",
    "\n",
    "![Apache Kafka](images/logo.jpg)"
   ]
  },
  {
   "cell_type": "markdown",
   "id": "12b18030-cadc-48f2-9a4d-b3c58e855f2d",
   "metadata": {},
   "source": [
    "## Introduction\n",
    "This workshop aims to provide a practical understanding of Apache Kafka's core concepts and hands-on experience with its functionality.\n",
    "\n",
    "### Objectives\n",
    "- Understand the key concepts of Event Streaming and Apache Kafka.\n",
    "- Learn how to produce and consume messages.\n",
    "- Explore advanced features like partitions and fault tolerance.\n",
    "- Conclude with a quiz to summarize and memorize \n",
    "\n",
    "[Apache Kafka Official Documentation](https://kafka.apache.org/documentation/)\n"
   ]
  },
  {
   "cell_type": "markdown",
   "id": "5663f2fc-3da2-41c0-99f0-c3aa1bbd4379",
   "metadata": {},
   "source": [
    "# Introduction to Event Streaming\n",
    "\n",
    "Event streaming is a technology paradigm for continuously capturing, storing, processing, and reacting to events happening across your business or applications in real time. It fundamentally changes how data is handled, moving away from batch processing to a continual flow of data.\n",
    "\n",
    "Event streaming platforms like Apache Kafka enable the collection, integration, and analysis of massive streams of event data from multiple sources.\n",
    "\n",
    "![Event Streaming](images/event.svg)"
   ]
  },
  {
   "cell_type": "markdown",
   "id": "456ce34f-6827-40c0-9ea1-5adb3bd598e2",
   "metadata": {},
   "source": [
    "## The Relevance of Event Streaming\n",
    "\n",
    "Event streaming has become vital in today’s digital world, where real-time data and insights are crucial for decision making. Applications range from real-time analytics and monitoring to data integration and microservices communication.\n",
    "\n",
    "### <span style=\"color:red\">Question: Why do you think real-time data processing is important in modern applications?</span>\n"
   ]
  },
  {
   "cell_type": "markdown",
   "id": "e64c67fd-9452-4b02-9bb4-6dca693b1c4a",
   "metadata": {},
   "source": [
    "## What is Apache Kafka?\n",
    "\n",
    "Apache Kafka is a distributed event streaming platform that provides high-throughput, highly scalable, and fault-tolerant event streaming capabilities. It is designed to handle real-time data feeds and provides a unified platform for both producing and consuming data streams.\n",
    "\n",
    "### Key Features:\n",
    "- **High Throughput**: Capable of handling millions of events per second.\n",
    "- **Scalability**: Easily scales horizontally to accommodate growing data.\n",
    "- **Fault Tolerance**: Robust against system failures, ensuring no data loss.\n",
    "- **Real-Time Processing**: Enables immediate data processing and decision making.\n",
    "\n",
    "![Applications](images/apps.png)"
   ]
  },
  {
   "cell_type": "markdown",
   "id": "821409c1-d428-4b20-93f6-b548f90eea32",
   "metadata": {},
   "source": [
    "# Companies Using Apache Kafka\n",
    "\n",
    "Apache Kafka is widely adopted by numerous companies across various industries. Its ability to handle large-scale, real-time data makes it a preferred choice for modern data architectures.\n",
    "\n",
    "## Some Notable Companies:\n",
    "- **LinkedIn**: Originally developed Kafka to handle their activity stream and operational metrics.\n",
    "- **Netflix**: Utilizes Kafka for real-time monitoring and event processing in their streaming service.\n",
    "- **Uber**: Employs Kafka for gathering user, trip, and geospatial data for real-time analytics and decision-making.\n",
    "- **Twitter**: Uses Kafka as a backbone for their event streaming architecture, handling billions of events each day.\n",
    "\n",
    "### <span style=\"color:red\">Question: Can you think of a scenario in your industry or field where Kafka's capabilities would be beneficial?</span>\n"
   ]
  },
  {
   "cell_type": "markdown",
   "id": "05cd00a6-c892-47fc-a2de-5d5034a9595d",
   "metadata": {},
   "source": [
    "# Transition to Kafka Key Concepts\n",
    "\n",
    "Now that we understand the importance of event streaming and the role of Apache Kafka in this domain, let's delve into the key concepts that make Kafka a powerful tool for event-driven data processing.\n"
   ]
  },
  {
   "cell_type": "markdown",
   "id": "ce771c06-5afc-41f6-bd70-02f2c900c789",
   "metadata": {},
   "source": [
    "## Overview of Apache Kafka\n",
    "\n",
    "### Key Concepts\n",
    "\n",
    "Understanding the fundamental concepts of Apache Kafka is crucial for working with this powerful streaming platform. In this section, we will explore the essential components and their roles in Kafka's architecture.\n",
    "\n",
    "- **Topics**: Categories where records are stored.\n",
    "- **Producers**: Entities that publish messages to topics.\n",
    "- **Consumers**: Entities that subscribe to topics and process messages.\n",
    "- **Brokers**: Servers in a Kafka cluster that store data and serve clients.  \n",
    "- **Partitions**: Kafka topics are divided into partitions, which allow for data to be distributed and parallelized across multiple brokers.\n",
    "- **Offsets**: Unique identifiers of records within a partition.\n",
    "\n",
    "![Kafka Architecture](images/simple.png)\n"
   ]
  },
  {
   "cell_type": "markdown",
   "id": "96a82566-bd84-4a93-a1b7-e86646a587e8",
   "metadata": {},
   "source": [
    "## 1. Topics\n",
    "\n",
    "- **Definition**: A topic is a category or feed name to which records are published. It is like a channel where data is stored and distributed.\n",
    "- **Characteristics**:\n",
    "  - Topics are partitioned for scalability.\n",
    "  - Data within a topic is immutable.\n",
    "- **Use Case**: Different topics for logs, metrics, customer activities, etc.\n",
    "\n",
    "### <span style=\"color:red\">Question: What purpose do partitions within a topic serve in Apache Kafka?</span>\n"
   ]
  },
  {
   "cell_type": "markdown",
   "id": "c6da3528-dba0-4e6f-a1f0-7aed4d5cdd32",
   "metadata": {},
   "source": [
    "## 2. Producers\n",
    "\n",
    "- **Definition**: Applications or processes that publish data to Kafka topics.\n",
    "- **How it Works**:\n",
    "  - Producers send data to topics, optionally choosing the partition.\n",
    "  - Data can be sent synchronously or asynchronously.\n",
    "- **Key Points**: Responsible for key determination and efficient data distribution.\n",
    "\n",
    "### <span style=\"color:red\">Question: How do producers influence which partition a message is sent to in Kafka?</span>\n"
   ]
  },
  {
   "cell_type": "markdown",
   "id": "ff555dcb-6951-499b-8024-5feb7e08fdfc",
   "metadata": {},
   "source": [
    "## 3. Consumers\n",
    "\n",
    "- **Definition**: Processes that read data from Kafka topics.\n",
    "- **Consumption Patterns**:\n",
    "  - Subscribe to one or more topics and read data in order.\n",
    "  - Track which records have been consumed using offsets.\n",
    "- **Grouping**: Part of a consumer group to avoid duplicate processing.\n",
    "\n",
    "### <span style=\"color:red\">Question: Why is it important for consumers to track offsets in Kafka?</span>\n"
   ]
  },
  {
   "cell_type": "markdown",
   "id": "5c749f3c-0057-4437-8394-91161a66bc64",
   "metadata": {},
   "source": [
    "![Topic](images/topic.png)"
   ]
  },
  {
   "cell_type": "markdown",
   "id": "6956d276-ad90-4ea3-941c-b0ff07cba804",
   "metadata": {},
   "source": [
    "![Producers](images/producers.png)"
   ]
  },
  {
   "cell_type": "markdown",
   "id": "c9058159-e14c-42be-bc17-0f3997c69c13",
   "metadata": {},
   "source": [
    "## 4. Brokers\n",
    "\n",
    "- **Definition**: Servers in a Kafka cluster storing data and serving clients.\n",
    "- **Cluster Role**:\n",
    "  - Handle load balancing and fault tolerance.\n",
    "  - Manage requests from producers and serve data to consumers.\n",
    "- **Replication**: Ensures data availability and durability.\n",
    "\n",
    "### <span style=\"color:red\">Question: What is the role of a broker in the Kafka architecture?</span>\n"
   ]
  },
  {
   "cell_type": "markdown",
   "id": "1b9a796e-c925-4d49-8966-c583d69c187a",
   "metadata": {},
   "source": [
    "## 5. Partitions\n",
    "\n",
    "- **Definition**: Divisions within a Kafka topic.\n",
    "- **Scaling and Performance**:\n",
    "  - Enable parallel processing across nodes.\n",
    "  - Hosted on different servers for better data handling and consumer management.\n",
    "\n",
    "### <span style=\"color:red\">Question: How do partitions contribute to Kafka’s scalability and fault tolerance?</span>\n",
    "\n",
    "![Partitions](images/partitions.png)"
   ]
  },
  {
   "cell_type": "markdown",
   "id": "ee3bb295-fefc-4203-b846-3578ea271aa4",
   "metadata": {},
   "source": [
    "![More Consumers](images/more_consumers.png)"
   ]
  },
  {
   "cell_type": "markdown",
   "id": "ad16ffce-3be2-4e6a-9769-c606bcd23f7f",
   "metadata": {},
   "source": [
    "![Impossible](images/impossible.png)"
   ]
  },
  {
   "cell_type": "markdown",
   "id": "3eb498eb-df40-43ad-891d-82a39ff8741e",
   "metadata": {},
   "source": [
    "![Idle Consumer](images/idle_consumer.png)"
   ]
  },
  {
   "cell_type": "markdown",
   "id": "50b9d669-e29b-4010-9558-4a20abbf243a",
   "metadata": {},
   "source": [
    "![More Groups](images/more_groups.png)"
   ]
  },
  {
   "cell_type": "markdown",
   "id": "c25b5643-99bb-4677-9f0d-54a0b8234210",
   "metadata": {},
   "source": [
    "## 6. Offsets\n",
    "\n",
    "- **Definition**: Unique identifiers for each record within a partition.\n",
    "- **Consumer Tracking**:\n",
    "  - Enable consumers to keep track of consumed messages.\n",
    "  - Allow resuming reading from the last consumed offset.\n",
    "\n",
    "### <span style=\"color:red\">Question: What would happen if Kafka consumers didn't use offsets?</span>\n"
   ]
  },
  {
   "cell_type": "code",
   "execution_count": null,
   "id": "e5691058-fe89-478d-8cb4-f2d4160b5124",
   "metadata": {},
   "outputs": [],
   "source": []
  }
 ],
 "metadata": {
  "kernelspec": {
   "display_name": "Python 3 (ipykernel)",
   "language": "python",
   "name": "python3"
  },
  "language_info": {
   "codemirror_mode": {
    "name": "ipython",
    "version": 3
   },
   "file_extension": ".py",
   "mimetype": "text/x-python",
   "name": "python",
   "nbconvert_exporter": "python",
   "pygments_lexer": "ipython3",
   "version": "3.11.4"
  }
 },
 "nbformat": 4,
 "nbformat_minor": 5
}
